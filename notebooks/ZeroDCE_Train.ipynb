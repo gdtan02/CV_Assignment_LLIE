{
 "cells": [
  {
   "cell_type": "markdown",
   "id": "c52fecaf-5bc0-4bc7-9417-36695bef09b4",
   "metadata": {},
   "source": [
    "# Training Process of ZeroDCE"
   ]
  },
  {
   "cell_type": "code",
   "execution_count": null,
   "id": "bbbda531-05f1-4f64-8d97-011b89fe0610",
   "metadata": {},
   "outputs": [],
   "source": []
  }
 ],
 "metadata": {
  "kernelspec": {
   "display_name": "Python 3 (ipykernel)",
   "language": "python",
   "name": "python3"
  },
  "language_info": {
   "codemirror_mode": {
    "name": "ipython",
    "version": 3
   },
   "file_extension": ".py",
   "mimetype": "text/x-python",
   "name": "python",
   "nbconvert_exporter": "python",
   "pygments_lexer": "ipython3",
   "version": "3.11.7"
  }
 },
 "nbformat": 4,
 "nbformat_minor": 5
}
