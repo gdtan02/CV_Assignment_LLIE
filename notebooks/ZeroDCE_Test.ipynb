{
  "cells": [
    {
      "cell_type": "markdown",
      "metadata": {
        "id": "view-in-github",
        "colab_type": "text"
      },
      "source": [
        "<a href=\"https://colab.research.google.com/github/gdtan02/CV_Assignment_LLIE/blob/main/notebooks/ZeroDCE_Test.ipynb\" target=\"_parent\"><img src=\"https://colab.research.google.com/assets/colab-badge.svg\" alt=\"Open In Colab\"/></a>"
      ]
    },
    {
      "cell_type": "markdown",
      "id": "e8ddbef6-4058-4aac-b17e-f09811c06df0",
      "metadata": {
        "id": "e8ddbef6-4058-4aac-b17e-f09811c06df0"
      },
      "source": [
        "# Zero-DCE Testing"
      ]
    },
    {
      "cell_type": "markdown",
      "source": [
        "## Environment Setup"
      ],
      "metadata": {
        "id": "AfbBf69kTzmU"
      },
      "id": "AfbBf69kTzmU"
    },
    {
      "cell_type": "code",
      "execution_count": 1,
      "id": "ff298331-8b27-4fd1-af88-d4062bc50904",
      "metadata": {
        "id": "ff298331-8b27-4fd1-af88-d4062bc50904",
        "outputId": "db1cd3cc-3b59-4432-dc05-a29d247c7201",
        "colab": {
          "base_uri": "https://localhost:8080/"
        }
      },
      "outputs": [
        {
          "output_type": "stream",
          "name": "stdout",
          "text": [
            "/bin/bash: line 1: nvidia-smi: command not found\n"
          ]
        }
      ],
      "source": [
        "!nvidia-smi"
      ]
    },
    {
      "cell_type": "code",
      "source": [],
      "metadata": {
        "id": "1pSQnXjuT1X_"
      },
      "id": "1pSQnXjuT1X_",
      "execution_count": null,
      "outputs": []
    }
  ],
  "metadata": {
    "kernelspec": {
      "display_name": "Python 3 (ipykernel)",
      "language": "python",
      "name": "python3"
    },
    "language_info": {
      "codemirror_mode": {
        "name": "ipython",
        "version": 3
      },
      "file_extension": ".py",
      "mimetype": "text/x-python",
      "name": "python",
      "nbconvert_exporter": "python",
      "pygments_lexer": "ipython3",
      "version": "3.11.7"
    },
    "colab": {
      "provenance": [],
      "include_colab_link": true
    }
  },
  "nbformat": 4,
  "nbformat_minor": 5
}